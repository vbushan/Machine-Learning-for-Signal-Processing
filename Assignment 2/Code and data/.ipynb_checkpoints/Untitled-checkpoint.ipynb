{
 "cells": [
  {
   "cell_type": "code",
   "execution_count": 1,
   "metadata": {},
   "outputs": [],
   "source": [
    "import pyperclip"
   ]
  },
  {
   "cell_type": "code",
   "execution_count": 2,
   "metadata": {},
   "outputs": [
    {
     "data": {
      "text/plain": [
       "\"Hello, Thank you for allowing me an opportunity to apply for the AI/Machine Learning Intern software developer role at your company. After carefully reviewing the job description, skill requirements and responsibilities, I believe that I could be a prospective candidate for this role. I'm a first-year graduate student at Indiana University (IU), currently pursuing a master's degree in Data Science. As a graduate student, my current interests lie in applications of Machine Learning, Statistical Analysis, exploratory data analysis, and Deep Learning techniques on real-world data. I have recently worked on an academic project that involved finding a better soccer player for a bargain using clustering and exploratory data analysis. Additionally, I have also completed a Deep Learning project that involved the classification of objects using several CNN architectures, like- ResNet, VGG-16, Inception and Xception architectures- to name a few. Before joining this graduate program, I have worked as a Technology Analyst at Infosys Limited, Bangalore, India. At Infosys, I have handled the IT applications in the service supply chain of CISCO Limited, which is a client organization of Infosys. My work involved implementing open-source and proprietary software to generate Security and Code Analytics, further implementing high-level changes in a web application to make it robust to cyber-attacks like- Blind SQL Injection, Cross-site request forgery, and Cross-site scripting. Additionally, I have also helped in the migration of 9 web-application to Cloud Application Environment using docker, Red hat, and Kubernetes. I have elaborated more about my work at Infosys and my current coursework at IU in my resume. I believe with an array of skill set in Software Development and Data Science; I could add tangible value to your team. I have always been consistent throughout my academic career, so given an opportunity, I would replicate the same at work.\\r\\nYou can follow my work here- https://github.com/vbushan?tab=repositories. Thanking you for taking your time to know about me. I look forward to hearing from you.\""
      ]
     },
     "execution_count": 2,
     "metadata": {},
     "output_type": "execute_result"
    }
   ],
   "source": [
    "pyperclip.paste()"
   ]
  },
  {
   "cell_type": "code",
   "execution_count": 5,
   "metadata": {},
   "outputs": [
    {
     "data": {
      "text/plain": [
       "str"
      ]
     },
     "execution_count": 5,
     "metadata": {},
     "output_type": "execute_result"
    }
   ],
   "source": [
    "type(pyperclip.paste())"
   ]
  },
  {
   "cell_type": "code",
   "execution_count": null,
   "metadata": {},
   "outputs": [],
   "source": [
    "cover_letter=pyperclip.paste"
   ]
  }
 ],
 "metadata": {
  "kernelspec": {
   "display_name": "Python 3",
   "language": "python",
   "name": "python3"
  },
  "language_info": {
   "codemirror_mode": {
    "name": "ipython",
    "version": 3
   },
   "file_extension": ".py",
   "mimetype": "text/x-python",
   "name": "python",
   "nbconvert_exporter": "python",
   "pygments_lexer": "ipython3",
   "version": "3.7.3"
  }
 },
 "nbformat": 4,
 "nbformat_minor": 2
}
