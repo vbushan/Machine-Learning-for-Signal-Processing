{
 "cells": [
  {
   "cell_type": "code",
   "execution_count": 33,
   "metadata": {},
   "outputs": [],
   "source": [
    "import matplotlib.image as mpimg \n",
    "import random"
   ]
  },
  {
   "cell_type": "code",
   "execution_count": 34,
   "metadata": {},
   "outputs": [],
   "source": [
    "img=mpimg.imread('IMG_1878.jpg')"
   ]
  },
  {
   "cell_type": "code",
   "execution_count": 35,
   "metadata": {},
   "outputs": [
    {
     "data": {
      "text/plain": [
       "array([[[ 65,  39,  24],\n",
       "        [ 61,  37,  35],\n",
       "        [ 52,  31,  38],\n",
       "        ...,\n",
       "        [ 75,  51,  39],\n",
       "        [111, 100,  96],\n",
       "        [139, 138, 134]],\n",
       "\n",
       "       [[ 47,  25,  14],\n",
       "        [ 72,  48,  48],\n",
       "        [ 63,  41,  44],\n",
       "        ...,\n",
       "        [ 88,  66,  55],\n",
       "        [105,  91,  88],\n",
       "        [164, 155, 156]],\n",
       "\n",
       "       [[ 54,  35,  28],\n",
       "        [ 51,  32,  26],\n",
       "        [ 60,  39,  36],\n",
       "        ...,\n",
       "        [ 99,  77,  64],\n",
       "        [ 95,  74,  69],\n",
       "        [141, 121, 123]],\n",
       "\n",
       "       ...,\n",
       "\n",
       "       [[ 57,  49,  47],\n",
       "        [ 55,  47,  45],\n",
       "        [ 52,  44,  42],\n",
       "        ...,\n",
       "        [ 78,  73,  67],\n",
       "        [ 81,  76,  70],\n",
       "        [ 75,  70,  64]],\n",
       "\n",
       "       [[ 45,  37,  35],\n",
       "        [ 43,  35,  33],\n",
       "        [ 41,  33,  31],\n",
       "        ...,\n",
       "        [ 75,  68,  62],\n",
       "        [ 82,  75,  69],\n",
       "        [ 77,  72,  68]],\n",
       "\n",
       "       [[ 41,  33,  31],\n",
       "        [ 42,  34,  32],\n",
       "        [ 42,  34,  32],\n",
       "        ...,\n",
       "        [ 77,  70,  64],\n",
       "        [ 76,  68,  65],\n",
       "        [ 82,  74,  71]]], dtype=uint8)"
      ]
     },
     "execution_count": 35,
     "metadata": {},
     "output_type": "execute_result"
    }
   ],
   "source": [
    "img"
   ]
  },
  {
   "cell_type": "code",
   "execution_count": 36,
   "metadata": {},
   "outputs": [
    {
     "data": {
      "text/plain": [
       "(1024, 768, 3)"
      ]
     },
     "execution_count": 36,
     "metadata": {},
     "output_type": "execute_result"
    }
   ],
   "source": [
    "img.shape"
   ]
  },
  {
   "cell_type": "code",
   "execution_count": 37,
   "metadata": {},
   "outputs": [],
   "source": [
    "Xr=img[:,:,0]\n",
    "Xg=img[:,:,1]\n",
    "Xb=img[:,:,2]"
   ]
  },
  {
   "cell_type": "code",
   "execution_count": 38,
   "metadata": {},
   "outputs": [
    {
     "data": {
      "text/plain": [
       "(1024, 768)"
      ]
     },
     "execution_count": 38,
     "metadata": {},
     "output_type": "execute_result"
    }
   ],
   "source": [
    "Xr.shape"
   ]
  },
  {
   "cell_type": "code",
   "execution_count": 39,
   "metadata": {},
   "outputs": [],
   "source": [
    "import numpy as np\n",
    "def extract_channels(Xr,Xg,Xb, blocks):\n",
    "    R=np.array(Xr)\n",
    "    G=np.array(Xg)\n",
    "    B=np.array(Xb)\n",
    "    \n",
    "    r_indexes=random.sample(list(range(0,R.shape[0]-8)),blocks//3)\n",
    "    g_indexes=random.sample(list(range(0,G.shape[0]-8)),blocks//3)\n",
    "    b_indexes=random.sample(list(range(0,B.shape[0]-8)),blocks//3)\n",
    "    \n",
    "    \n",
    "    r_channels=np.array([R[i:i+8,:] for i in r_indexes])\n",
    "    b_channels=np.array([B[i:i+8,:] for i in b_indexes])\n",
    "    g_channels=np.array([G[i:i+8,:] for i in g_indexes])\n",
    "    \n",
    "\n",
    "    r_block=r_channels[0]\n",
    "    for i in range(1,r_channels.shape[0]):\n",
    "        r_block=np.concatenate((r_block,r_channels[i]),axis=1)\n",
    "    \n",
    "    #print(r_block.shape)\n",
    "    \n",
    "    b_block=b_channels[0]\n",
    "    for i in range(1,b_channels.shape[0]):\n",
    "        b_block=np.concatenate((b_block,b_channels[i]),axis=1)\n",
    "    \n",
    "    #print(b_block.shape)\n",
    "    \n",
    "    g_block=g_channels[0]\n",
    "    for i in range(1,g_channels.shape[0]):\n",
    "        g_block=np.concatenate((g_block,g_channels[i]),axis=1)\n",
    "    \n",
    "    #print(g_block.shape)\n",
    "    \n",
    "    \n",
    "    final_block=np.concatenate((r_block,g_block,b_block),axis=1)\n",
    "    print('Dimension of the R block is',final_block.shape)\n",
    "    \n",
    "    return final_block\n",
    "#extract_channels(Xr,Xg,Xb,9)"
   ]
  },
  {
   "cell_type": "code",
   "execution_count": 40,
   "metadata": {},
   "outputs": [
    {
     "name": "stdout",
     "output_type": "stream",
     "text": [
      "Dimension of the R block is (8, 6912)\n"
     ]
    }
   ],
   "source": [
    "R=extract_channels(Xr,Xg,Xb,9)\n",
    "R=R.astype('float64')"
   ]
  },
  {
   "cell_type": "code",
   "execution_count": 41,
   "metadata": {},
   "outputs": [
    {
     "data": {
      "text/plain": [
       "<matplotlib.image.AxesImage at 0x225461feb00>"
      ]
     },
     "execution_count": 41,
     "metadata": {},
     "output_type": "execute_result"
    },
    {
     "data": {
      "image/png": "[encoded data removed]",
      "text/plain": [
       "<Figure size 432x288 with 1 Axes>"
      ]
     },
     "metadata": {
      "needs_background": "light"
     },
     "output_type": "display_data"
    }
   ],
   "source": [
    "from matplotlib import pyplot as plt\n",
    "plt.imshow(R,aspect='auto')"
   ]
  },
  {
   "cell_type": "code",
   "execution_count": 42,
   "metadata": {},
   "outputs": [],
   "source": [
    "for i in range(0,len(R)):\n",
    "    mean=np.mean(R[i])\n",
    "    R[i]-=mean\n",
    "    \n",
    "    "
   ]
  },
  {
   "cell_type": "code",
   "execution_count": 43,
   "metadata": {},
   "outputs": [],
   "source": [
    "co_var=R.dot(R.T)"
   ]
  },
  {
   "cell_type": "code",
   "execution_count": 44,
   "metadata": {},
   "outputs": [
    {
     "data": {
      "text/plain": [
       "(8, 8)"
      ]
     },
     "execution_count": 44,
     "metadata": {},
     "output_type": "execute_result"
    }
   ],
   "source": [
    "co_var.shape"
   ]
  },
  {
   "cell_type": "code",
   "execution_count": 45,
   "metadata": {},
   "outputs": [],
   "source": [
    "eig_val,eig_vect=np.linalg.eig(co_var)"
   ]
  },
  {
   "cell_type": "code",
   "execution_count": 46,
   "metadata": {},
   "outputs": [
    {
     "data": {
      "text/plain": [
       "array([1.39882252e+08, 5.48674838e+06, 2.33958806e+06, 1.25662583e+06,\n",
       "       8.56348602e+05, 5.48644333e+05, 2.04666103e+05, 3.67695021e+05])"
      ]
     },
     "execution_count": 46,
     "metadata": {},
     "output_type": "execute_result"
    }
   ],
   "source": [
    "eig_val"
   ]
  },
  {
   "cell_type": "code",
   "execution_count": 47,
   "metadata": {},
   "outputs": [
    {
     "data": {
      "text/plain": [
       "array([[ 0.34842516, -0.50369794,  0.39747724,  0.37884628, -0.3590979 ,\n",
       "         0.33065108, -0.1499024 ,  0.2502468 ],\n",
       "       [ 0.35478126, -0.45186955,  0.20407717, -0.01279967,  0.30778606,\n",
       "        -0.45482754,  0.31191882, -0.47878925],\n",
       "       [ 0.35588031, -0.27818262, -0.25049602, -0.50356523,  0.40525307,\n",
       "         0.03328888, -0.37174544,  0.41964815],\n",
       "       [ 0.35591997, -0.06825108, -0.53586966, -0.23867758, -0.40231606,\n",
       "         0.35382298,  0.44496675, -0.1987339 ],\n",
       "       [ 0.356991  ,  0.1689142 , -0.41186916,  0.37405517, -0.25418325,\n",
       "        -0.44083519, -0.50232122, -0.15231726],\n",
       "       [ 0.35434465,  0.32918595, -0.09793854,  0.47420941,  0.41002272,\n",
       "         0.03058769,  0.43555795,  0.41574631],\n",
       "       [ 0.35417678,  0.40078234,  0.2714305 , -0.05073868,  0.26492672,\n",
       "         0.49343492, -0.29296482, -0.48804798],\n",
       "       [ 0.34778793,  0.40315833,  0.44447399, -0.42237482, -0.38381539,\n",
       "        -0.34460648,  0.1272011 ,  0.24145661]])"
      ]
     },
     "execution_count": 47,
     "metadata": {},
     "output_type": "execute_result"
    }
   ],
   "source": [
    "eig_vect"
   ]
  },
  {
   "cell_type": "code",
   "execution_count": 48,
   "metadata": {},
   "outputs": [
    {
     "data": {
      "text/plain": [
       "(8, 8)"
      ]
     },
     "execution_count": 48,
     "metadata": {},
     "output_type": "execute_result"
    }
   ],
   "source": [
    "eig_vect.shape"
   ]
  },
  {
   "cell_type": "code",
   "execution_count": 49,
   "metadata": {},
   "outputs": [],
   "source": [
    "result=(eig_vect.T).dot(R)"
   ]
  },
  {
   "cell_type": "code",
   "execution_count": 50,
   "metadata": {},
   "outputs": [
    {
     "data": {
      "text/plain": [
       "(8, 6912)"
      ]
     },
     "execution_count": 50,
     "metadata": {},
     "output_type": "execute_result"
    }
   ],
   "source": [
    "result.shape"
   ]
  },
  {
   "cell_type": "code",
   "execution_count": 51,
   "metadata": {},
   "outputs": [
    {
     "data": {
      "text/plain": [
       "<matplotlib.image.AxesImage at 0x22545456390>"
      ]
     },
     "execution_count": 51,
     "metadata": {},
     "output_type": "execute_result"
    },
    {
     "data": {
      "image/png": "[encoded data removed]",
      "text/plain": [
       "<Figure size 432x288 with 1 Axes>"
      ]
     },
     "metadata": {
      "needs_background": "light"
     },
     "output_type": "display_data"
    }
   ],
   "source": [
    "plt.imshow(result, aspect='auto')"
   ]
  },
  {
   "cell_type": "code",
   "execution_count": 52,
   "metadata": {},
   "outputs": [
    {
     "data": {
      "image/png": "[encoded data removed]",
      "text/plain": [
       "<Figure size 432x288 with 2 Axes>"
      ]
     },
     "metadata": {
      "needs_background": "light"
     },
     "output_type": "display_data"
    }
   ],
   "source": [
    "from matplotlib import pyplot as plt\n",
    "plt.imshow(eig_vect.T,aspect='auto');\n",
    "plt.colorbar();"
   ]
  },
  {
   "cell_type": "code",
   "execution_count": 53,
   "metadata": {},
   "outputs": [
    {
     "data": {
      "image/png": "[encoded data removed]",
      "text/plain": [
       "<Figure size 288x288 with 2 Axes>"
      ]
     },
     "metadata": {
      "needs_background": "light"
     },
     "output_type": "display_data"
    }
   ],
   "source": [
    "from matplotlib import pyplot as plt\n",
    "plt.matshow(eig_vect.T,aspect='auto');\n",
    "plt.colorbar();"
   ]
  },
  {
   "cell_type": "code",
   "execution_count": 54,
   "metadata": {},
   "outputs": [
    {
     "name": "stdout",
     "output_type": "stream",
     "text": [
      "Dimension of the R block is (8, 69120)\n"
     ]
    }
   ],
   "source": [
    "R=extract_channels(Xr,Xg,Xb,90)\n",
    "R=R.astype('float64')"
   ]
  },
  {
   "cell_type": "code",
   "execution_count": 55,
   "metadata": {},
   "outputs": [],
   "source": [
    "for i in range(0,len(R)):\n",
    "    mean=np.mean(R[i])\n",
    "    R[i]-=mean\n",
    "    "
   ]
  },
  {
   "cell_type": "code",
   "execution_count": 56,
   "metadata": {},
   "outputs": [],
   "source": [
    "co_var=R.dot(R.T)"
   ]
  },
  {
   "cell_type": "code",
   "execution_count": 57,
   "metadata": {},
   "outputs": [
    {
     "data": {
      "text/plain": [
       "(8, 8)"
      ]
     },
     "execution_count": 57,
     "metadata": {},
     "output_type": "execute_result"
    }
   ],
   "source": [
    "co_var.shape"
   ]
  },
  {
   "cell_type": "code",
   "execution_count": 58,
   "metadata": {},
   "outputs": [],
   "source": [
    "eig_val,eig_vect=np.linalg.eig(co_var)"
   ]
  },
  {
   "cell_type": "code",
   "execution_count": 59,
   "metadata": {},
   "outputs": [],
   "source": [
    "result=(eig_vect.T).dot(R)"
   ]
  },
  {
   "cell_type": "code",
   "execution_count": 60,
   "metadata": {},
   "outputs": [
    {
     "data": {
      "text/plain": [
       "(8, 69120)"
      ]
     },
     "execution_count": 60,
     "metadata": {},
     "output_type": "execute_result"
    }
   ],
   "source": [
    "result.shape"
   ]
  },
  {
   "cell_type": "code",
   "execution_count": 61,
   "metadata": {},
   "outputs": [
    {
     "data": {
      "image/png": "[encoded data removed]",
      "text/plain": [
       "<Figure size 432x288 with 2 Axes>"
      ]
     },
     "metadata": {
      "needs_background": "light"
     },
     "output_type": "display_data"
    }
   ],
   "source": [
    "from matplotlib import pyplot as plt\n",
    "plt.imshow(eig_vect.T,aspect='auto');\n",
    "plt.colorbar();"
   ]
  },
  {
   "cell_type": "code",
   "execution_count": 62,
   "metadata": {},
   "outputs": [
    {
     "data": {
      "text/plain": [
       "<matplotlib.image.AxesImage at 0x225452a70f0>"
      ]
     },
     "execution_count": 62,
     "metadata": {},
     "output_type": "execute_result"
    },
    {
     "data": {
      "image/png": "[encoded data removed]",
      "text/plain": [
       "<Figure size 432x288 with 1 Axes>"
      ]
     },
     "metadata": {
      "needs_background": "light"
     },
     "output_type": "display_data"
    }
   ],
   "source": [
    "plt.imshow(result,aspect='auto')"
   ]
  }
 ],
 "metadata": {
  "kernelspec": {
   "display_name": "Python 3",
   "language": "python",
   "name": "python3"
  },
  "language_info": {
   "codemirror_mode": {
    "name": "ipython",
    "version": 3
   },
   "file_extension": ".py",
   "mimetype": "text/x-python",
   "name": "python",
   "nbconvert_exporter": "python",
   "pygments_lexer": "ipython3",
   "version": "3.7.3"
  }
 },
 "nbformat": 4,
 "nbformat_minor": 2
}
