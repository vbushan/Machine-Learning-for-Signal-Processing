{
 "cells": [
  {
   "cell_type": "code",
   "execution_count": 36,
   "metadata": {},
   "outputs": [],
   "source": [
    "import numpy as np\n",
    "from scipy.io import loadmat\n",
    "jun=loadmat('june.mat')\n",
    "dec=loadmat('december.mat')"
   ]
  },
  {
   "cell_type": "code",
   "execution_count": 37,
   "metadata": {},
   "outputs": [
    {
     "data": {
      "text/plain": [
       "dict_keys(['__header__', '__version__', '__globals__', 'june'])"
      ]
     },
     "execution_count": 37,
     "metadata": {},
     "output_type": "execute_result"
    }
   ],
   "source": [
    "jun.keys()"
   ]
  },
  {
   "cell_type": "code",
   "execution_count": 38,
   "metadata": {},
   "outputs": [],
   "source": [
    "jun=jun['june']"
   ]
  },
  {
   "cell_type": "code",
   "execution_count": 39,
   "metadata": {},
   "outputs": [
    {
     "data": {
      "text/plain": [
       "dict_keys(['__header__', '__version__', '__globals__', 'december'])"
      ]
     },
     "execution_count": 39,
     "metadata": {},
     "output_type": "execute_result"
    }
   ],
   "source": [
    "dec.keys()"
   ]
  },
  {
   "cell_type": "code",
   "execution_count": 40,
   "metadata": {},
   "outputs": [],
   "source": [
    "dec=dec['december']"
   ]
  },
  {
   "cell_type": "code",
   "execution_count": 41,
   "metadata": {},
   "outputs": [
    {
     "data": {
      "text/plain": [
       "array([[1377,  974],\n",
       "       [ 299, 1603],\n",
       "       [ 376,  632],\n",
       "       ...,\n",
       "       [ 796, 1323],\n",
       "       [ 943,  292],\n",
       "       [1293,  123]], dtype=uint16)"
      ]
     },
     "execution_count": 41,
     "metadata": {},
     "output_type": "execute_result"
    }
   ],
   "source": [
    "jun"
   ]
  },
  {
   "cell_type": "code",
   "execution_count": 42,
   "metadata": {},
   "outputs": [
    {
     "data": {
      "text/plain": [
       "array([[1417,  974],\n",
       "       [ 341, 1603],\n",
       "       [ 418,  632],\n",
       "       ...,\n",
       "       [ 833, 1323],\n",
       "       [ 991,  292],\n",
       "       [1332,  123]], dtype=uint16)"
      ]
     },
     "execution_count": 42,
     "metadata": {},
     "output_type": "execute_result"
    }
   ],
   "source": [
    "dec"
   ]
  },
  {
   "cell_type": "code",
   "execution_count": 43,
   "metadata": {},
   "outputs": [],
   "source": [
    "disp=dec[:,0]-jun[:,0]"
   ]
  },
  {
   "cell_type": "code",
   "execution_count": 44,
   "metadata": {},
   "outputs": [
    {
     "data": {
      "text/plain": [
       "array([40, 42, 42, ..., 37, 48, 39], dtype=uint16)"
      ]
     },
     "execution_count": 44,
     "metadata": {},
     "output_type": "execute_result"
    }
   ],
   "source": [
    "disp"
   ]
  },
  {
   "cell_type": "code",
   "execution_count": 45,
   "metadata": {},
   "outputs": [
    {
     "data": {
      "text/plain": [
       "array([40., 42., 42., ..., 37., 48., 39.])"
      ]
     },
     "execution_count": 45,
     "metadata": {},
     "output_type": "execute_result"
    }
   ],
   "source": [
    "disp.astype('float64')"
   ]
  },
  {
   "cell_type": "code",
   "execution_count": 46,
   "metadata": {},
   "outputs": [
    {
     "data": {
      "image/png": "[encoded data removed]",
      "text/plain": [
       "<Figure size 720x576 with 1 Axes>"
      ]
     },
     "metadata": {
      "needs_background": "light"
     },
     "output_type": "display_data"
    }
   ],
   "source": [
    "from matplotlib import pyplot as plt\n",
    "def plot_histogram(dis_arr):\n",
    "    plt.figure(figsize=[10,8])\n",
    "    plt.hist(x=dis_arr, bins='auto', color='#0504aa',alpha=0.7, rwidth=0.85);\n",
    "    plt.grid(axis='y', alpha=0.75)\n",
    "    plt.xlabel('Shift',fontsize=15)\n",
    "    plt.ylabel('Frequency',fontsize=15)\n",
    "    plt.xticks(fontsize=10)\n",
    "    plt.yticks(fontsize=10)\n",
    "    plt.title('Disparity Histogram',fontsize=15)\n",
    "    plt.show();\n",
    "    \n",
    "plot_histogram(disp)"
   ]
  },
  {
   "cell_type": "code",
   "execution_count": 58,
   "metadata": {},
   "outputs": [
    {
     "name": "stdout",
     "output_type": "stream",
     "text": [
      "Initial Centroids [35, 39]\n",
      "Epoch 1 517.053435114503 16481.980698529173 [36.63358778625954, 38.162224264705884]\n",
      "Epoch 2 6300.928176795582 5232.758364312275 [29.859116022099446, 43.25278810408922]\n",
      "Epoch 3 5542.58044164035 5948.9468267581515 [28.845425867507885, 42.77015437392796]\n",
      "Epoch 4 4805.970873786402 6700.592750533017 [27.74271844660194, 42.31183368869936]\n"
     ]
    },
    {
     "name": "stderr",
     "output_type": "stream",
     "text": [
      "C:\\Users\\Vamsi\\Anaconda3\\lib\\site-packages\\ipykernel_launcher.py:19: RuntimeWarning: overflow encountered in ushort_scalars\n",
      "C:\\Users\\Vamsi\\Anaconda3\\lib\\site-packages\\ipykernel_launcher.py:20: RuntimeWarning: overflow encountered in ushort_scalars\n"
     ]
    },
    {
     "name": "stdout",
     "output_type": "stream",
     "text": [
      "Epoch 5 4805.970873786402 6700.592750533017 [27.74271844660194, 42.31183368869936]\n",
      "Epoch 6 4805.970873786402 6700.592750533017 [27.74271844660194, 42.31183368869936]\n",
      "Epoch 7 4805.970873786402 6700.592750533017 [27.74271844660194, 42.31183368869936]\n",
      "Epoch 8 4805.970873786402 6700.592750533017 [27.74271844660194, 42.31183368869936]\n",
      "Epoch 9 4805.970873786402 6700.592750533017 [27.74271844660194, 42.31183368869936]\n",
      "Epoch 10 4805.970873786402 6700.592750533017 [27.74271844660194, 42.31183368869936]\n",
      "Epoch 11 4805.970873786402 6700.592750533017 [27.74271844660194, 42.31183368869936]\n",
      "Epoch 12 4805.970873786402 6700.592750533017 [27.74271844660194, 42.31183368869936]\n",
      "Epoch 13 4805.970873786402 6700.592750533017 [27.74271844660194, 42.31183368869936]\n",
      "Epoch 14 4805.970873786402 6700.592750533017 [27.74271844660194, 42.31183368869936]\n",
      "Epoch 15 4805.970873786402 6700.592750533017 [27.74271844660194, 42.31183368869936]\n",
      "Epoch 16 4805.970873786402 6700.592750533017 [27.74271844660194, 42.31183368869936]\n",
      "Epoch 17 4805.970873786402 6700.592750533017 [27.74271844660194, 42.31183368869936]\n",
      "Epoch 18 4805.970873786402 6700.592750533017 [27.74271844660194, 42.31183368869936]\n",
      "Epoch 19 4805.970873786402 6700.592750533017 [27.74271844660194, 42.31183368869936]\n",
      "Epoch 20 4805.970873786402 6700.592750533017 [27.74271844660194, 42.31183368869936]\n",
      "Epoch 21 4805.970873786402 6700.592750533017 [27.74271844660194, 42.31183368869936]\n",
      "Epoch 22 4805.970873786402 6700.592750533017 [27.74271844660194, 42.31183368869936]\n",
      "Epoch 23 4805.970873786402 6700.592750533017 [27.74271844660194, 42.31183368869936]\n",
      "Epoch 24 4805.970873786402 6700.592750533017 [27.74271844660194, 42.31183368869936]\n",
      "Epoch 25 4805.970873786402 6700.592750533017 [27.74271844660194, 42.31183368869936]\n",
      "Epoch 26 4805.970873786402 6700.592750533017 [27.74271844660194, 42.31183368869936]\n",
      "Epoch 27 4805.970873786402 6700.592750533017 [27.74271844660194, 42.31183368869936]\n",
      "Epoch 28 4805.970873786402 6700.592750533017 [27.74271844660194, 42.31183368869936]\n",
      "Epoch 29 4805.970873786402 6700.592750533017 [27.74271844660194, 42.31183368869936]\n",
      "Epoch 30 4805.970873786402 6700.592750533017 [27.74271844660194, 42.31183368869936]\n",
      "Epoch 31 4805.970873786402 6700.592750533017 [27.74271844660194, 42.31183368869936]\n",
      "Epoch 32 4805.970873786402 6700.592750533017 [27.74271844660194, 42.31183368869936]\n",
      "Epoch 33 4805.970873786402 6700.592750533017 [27.74271844660194, 42.31183368869936]\n",
      "Epoch 34 4805.970873786402 6700.592750533017 [27.74271844660194, 42.31183368869936]\n",
      "Epoch 35 4805.970873786402 6700.592750533017 [27.74271844660194, 42.31183368869936]\n",
      "Epoch 36 4805.970873786402 6700.592750533017 [27.74271844660194, 42.31183368869936]\n",
      "Epoch 37 4805.970873786402 6700.592750533017 [27.74271844660194, 42.31183368869936]\n",
      "Epoch 38 4805.970873786402 6700.592750533017 [27.74271844660194, 42.31183368869936]\n",
      "Epoch 39 4805.970873786402 6700.592750533017 [27.74271844660194, 42.31183368869936]\n",
      "Epoch 40 4805.970873786402 6700.592750533017 [27.74271844660194, 42.31183368869936]\n",
      "Epoch 41 4805.970873786402 6700.592750533017 [27.74271844660194, 42.31183368869936]\n",
      "Epoch 42 4805.970873786402 6700.592750533017 [27.74271844660194, 42.31183368869936]\n",
      "Epoch 43 4805.970873786402 6700.592750533017 [27.74271844660194, 42.31183368869936]\n",
      "Epoch 44 4805.970873786402 6700.592750533017 [27.74271844660194, 42.31183368869936]\n",
      "Epoch 45 4805.970873786402 6700.592750533017 [27.74271844660194, 42.31183368869936]\n",
      "Epoch 46 4805.970873786402 6700.592750533017 [27.74271844660194, 42.31183368869936]\n",
      "Epoch 47 4805.970873786402 6700.592750533017 [27.74271844660194, 42.31183368869936]\n",
      "Epoch 48 4805.970873786402 6700.592750533017 [27.74271844660194, 42.31183368869936]\n",
      "Epoch 49 4805.970873786402 6700.592750533017 [27.74271844660194, 42.31183368869936]\n",
      "Epoch 50 4805.970873786402 6700.592750533017 [27.74271844660194, 42.31183368869936]\n",
      "[27.74271844660194, 42.31183368869936]\n"
     ]
    },
    {
     "data": {
      "image/png": "[encoded data removed]",
      "text/plain": [
       "<Figure size 432x288 with 1 Axes>"
      ]
     },
     "metadata": {
      "needs_background": "light"
     },
     "output_type": "display_data"
    }
   ],
   "source": [
    "import random\n",
    "def KMeans(data):\n",
    "    \n",
    "    #Intialize centroids\n",
    "    #min_d=min(data)\n",
    "    #max_d=max(data)\n",
    "    #centroids=[(3*min_d+max_d)/4, (3*max_d+min_d)/4]\n",
    "    centroids=random.sample(list(set(data)),2)\n",
    "    print('Initial Centroids',centroids)\n",
    "    \n",
    "    \n",
    "    \n",
    "    dist=[]\n",
    "    for i in range(50):\n",
    "        #Cluster assignment\n",
    "        clus1=[]\n",
    "        clus2=[]\n",
    "        for j in data:\n",
    "            distance1=np.linalg.norm(j-centroids[0])\n",
    "            distance2=np.linalg.norm(j-centroids[1])\n",
    "            #print(distance1)\n",
    "            #print(distance2)\n",
    "            \n",
    "            if distance1<distance2:\n",
    "                clus1.append(j)\n",
    "            else:\n",
    "                clus2.append(j)\n",
    "        \n",
    "        #Update clusters\n",
    "        centroids[0]=np.mean(clus1)\n",
    "        centroids[1]=np.mean(clus2)\n",
    "        \n",
    "        \n",
    "        dist1=sum([np.linalg.norm(k-centroids[0]) for k in clus1])\n",
    "        dist2=sum([np.linalg.norm(l-centroids[1]) for l in clus2])\n",
    "        print('Epoch',i+1,dist1,dist2,centroids)\n",
    "        dist.append(dist1+dist2)\n",
    "    \n",
    "    plt.plot(dist)\n",
    "    plt.title('Distance decay')\n",
    "    plt.xlabel('Epochs')\n",
    "    plt.ylabel('Distance')\n",
    "        \n",
    "    return (clus1,clus2,centroids)\n",
    "\n",
    "result=KMeans(disp)\n",
    "cluster1=result[0]\n",
    "cluster2=result[1]\n",
    "clus_centroids=result[2]\n",
    "\n",
    "#print(cluster1)\n",
    "#print(cluster2)\n",
    "print(clus_centroids)"
   ]
  },
  {
   "cell_type": "code",
   "execution_count": 60,
   "metadata": {},
   "outputs": [
    {
     "data": {
      "text/plain": [
       "824"
      ]
     },
     "execution_count": 60,
     "metadata": {},
     "output_type": "execute_result"
    }
   ],
   "source": [
    "len(cluster1)"
   ]
  },
  {
   "cell_type": "code",
   "execution_count": 61,
   "metadata": {},
   "outputs": [
    {
     "data": {
      "text/plain": [
       "1876"
      ]
     },
     "execution_count": 61,
     "metadata": {},
     "output_type": "execute_result"
    }
   ],
   "source": [
    "len(cluster2)"
   ]
  },
  {
   "cell_type": "code",
   "execution_count": null,
   "metadata": {},
   "outputs": [],
   "source": [
    "from matplotlib import pyplot as plt\n",
    "def plot_histogram(clus_1,clus_2):\n",
    "    plt.figure(figsize=[10,8])\n",
    "    plt.hist(x=clus_1, bins='auto', color='red',alpha=0.7, rwidth=0.85)\n",
    "    plt.hist(x=clus_2, bins='auto', color='blue',alpha=0.7, rwidth=0.85)\n",
    "    plt.grid(axis='y', alpha=0.75)\n",
    "    plt.xlabel('Shift',fontsize=15)\n",
    "    plt.ylabel('Frequency',fontsize=15)\n",
    "    plt.xticks(fontsize=10)\n",
    "    plt.yticks(fontsize=10)\n",
    "    plt.title('Disparity Histogram',fontsize=15)\n",
    "    plt.show();\n",
    "    \n",
    "plot_histogram(cluster1,cluster2)"
   ]
  }
 ],
 "metadata": {
  "kernelspec": {
   "display_name": "Python 3",
   "language": "python",
   "name": "python3"
  },
  "language_info": {
   "codemirror_mode": {
    "name": "ipython",
    "version": 3
   },
   "file_extension": ".py",
   "mimetype": "text/x-python",
   "name": "python",
   "nbconvert_exporter": "python",
   "pygments_lexer": "ipython3",
   "version": "3.7.3"
  }
 },
 "nbformat": 4,
 "nbformat_minor": 2
}
