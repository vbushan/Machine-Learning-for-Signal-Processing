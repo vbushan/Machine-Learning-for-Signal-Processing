{
 "cells": [
  {
   "cell_type": "code",
   "execution_count": 7,
   "metadata": {},
   "outputs": [],
   "source": [
    "from scipy.io import loadmat\n",
    "import numpy as np\n",
    "X_tr=loadmat('twitter.mat')['Xtr']\n",
    "X_te=loadmat('twitter.mat')['Xte']\n",
    "Y_tr=loadmat('twitter.mat')['YtrMat']\n",
    "Y_te=loadmat('twitter.mat')['YteMat']\n"
   ]
  },
  {
   "cell_type": "code",
   "execution_count": 10,
   "metadata": {},
   "outputs": [],
   "source": [
    "#Intitalize B and Theta matrices\n",
    "\n",
    "B=np.random.normal(0,1,size=(X_tr.shape[0],50))\n",
    "theta=np.random.normal(0,1,size=(50,X_tr.shape[1]))"
   ]
  },
  {
   "cell_type": "code",
   "execution_count": 34,
   "metadata": {},
   "outputs": [],
   "source": [
    "def estimate_post_prob(B,theta):\n",
    "    num=[]\n",
    "    denom=0\n",
    "    \n",
    "    for i in range(B.shape[1]):\n",
    "        num.append(B[:,i].reshape(-1,1).dot(theta[i,:].reshape(1,-1)))\n",
    "    num=np.array(num)\n",
    "    \n",
    "    for mat in num:\n",
    "        denom+=mat\n",
    "    \n",
    "    return num/denom"
   ]
  },
  {
   "cell_type": "code",
   "execution_count": 33,
   "metadata": {},
   "outputs": [
    {
     "data": {
      "text/plain": [
       "(50, 891, 773)"
      ]
     },
     "execution_count": 33,
     "metadata": {},
     "output_type": "execute_result"
    }
   ],
   "source": [
    "np.array(estimate_post_prob(B,theta)).shape"
   ]
  },
  {
   "cell_type": "code",
   "execution_count": null,
   "metadata": {},
   "outputs": [],
   "source": [
    "def update_B(X,Z):\n",
    "    num=[]\n",
    "    denom=[]\n",
    "    \n",
    "    for i in range(Z.shape[0]):\n",
    "        temp=X*Z[i,:,:]\n",
    "        temp=np.sum(temp,axis=1)\n",
    "        temp/=np.sum(temp,axis=0)\n",
    "        num.append(temp)\n",
    "    \n",
    "        "
   ]
  },
  {
   "cell_type": "code",
   "execution_count": null,
   "metadata": {},
   "outputs": [],
   "source": [
    "def update_theta():\n",
    "    pass"
   ]
  },
  {
   "cell_type": "code",
   "execution_count": 38,
   "metadata": {},
   "outputs": [
    {
     "data": {
      "text/plain": [
       "array([2., 2., 2.])"
      ]
     },
     "execution_count": 38,
     "metadata": {},
     "output_type": "execute_result"
    }
   ],
   "source": [
    "np.sum(np.ones((3,2)),axis=1)"
   ]
  },
  {
   "cell_type": "code",
   "execution_count": null,
   "metadata": {},
   "outputs": [],
   "source": []
  }
 ],
 "metadata": {
  "kernelspec": {
   "display_name": "Python 3",
   "language": "python",
   "name": "python3"
  },
  "language_info": {
   "codemirror_mode": {
    "name": "ipython",
    "version": 3
   },
   "file_extension": ".py",
   "mimetype": "text/x-python",
   "name": "python",
   "nbconvert_exporter": "python",
   "pygments_lexer": "ipython3",
   "version": "3.7.3"
  }
 },
 "nbformat": 4,
 "nbformat_minor": 2
}
